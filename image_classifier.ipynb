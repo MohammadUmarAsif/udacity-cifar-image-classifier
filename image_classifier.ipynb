{
 "cells": [
  {
   "cell_type": "markdown",
   "metadata": {},
   "source": [
    "# Introduction\n",
    "\n",
    "In this project, you will build a neural network of your own design to evaluate the CIFAR-10 dataset.\n",
    "\n",
    "To meet the requirements for this project, you will need to achieve an accuracy greater than 45%. \n",
    "If you want to beat Detectocorp's algorithm, you'll need to achieve an accuracy greater than 70%. \n",
    "(Beating Detectocorp's algorithm is not a requirement for passing this project, but you're encouraged to try!)\n",
    "\n",
    "Some of the benchmark results on CIFAR-10 include:\n",
    "\n",
    "78.9% Accuracy | [Deep Belief Networks; Krizhevsky, 2010](https://www.cs.toronto.edu/~kriz/conv-cifar10-aug2010.pdf)\n",
    "\n",
    "90.6% Accuracy | [Maxout Networks; Goodfellow et al., 2013](https://arxiv.org/pdf/1302.4389.pdf)\n",
    "\n",
    "96.0% Accuracy | [Wide Residual Networks; Zagoruyko et al., 2016](https://arxiv.org/pdf/1605.07146.pdf)\n",
    "\n",
    "99.0% Accuracy | [GPipe; Huang et al., 2018](https://arxiv.org/pdf/1811.06965.pdf)\n",
    "\n",
    "98.5% Accuracy | [Rethinking Recurrent Neural Networks and other Improvements for ImageClassification; Nguyen et al., 2020](https://arxiv.org/pdf/2007.15161.pdf)\n",
    "\n",
    "Research with this dataset is ongoing. Notably, many of these networks are quite large and quite expensive to train. \n",
    "\n",
    "## Imports"
   ]
  },
  {
   "cell_type": "code",
   "execution_count": 2,
   "metadata": {},
   "outputs": [],
   "source": [
    "## This cell contains the essential imports you will need – DO NOT CHANGE THE CONTENTS! ##\n",
    "import torch\n",
    "import torch.nn as nn\n",
    "import torch.nn.functional as F\n",
    "import torch.optim as optim\n",
    "import torchvision\n",
    "import torchvision.transforms as transforms\n",
    "import matplotlib.pyplot as plt\n",
    "import numpy as np"
   ]
  },
  {
   "cell_type": "markdown",
   "metadata": {},
   "source": [
    "## Load the Dataset\n",
    "\n",
    "Specify your transforms as a list first.\n",
    "The transforms module is already loaded as `transforms`.\n",
    "\n",
    "CIFAR-10 is fortunately included in the torchvision module.\n",
    "Then, you can create your dataset using the `CIFAR10` object from `torchvision.datasets` ([the documentation is available here](https://pytorch.org/docs/stable/torchvision/datasets.html#cifar)).\n",
    "Make sure to specify `download=True`! \n",
    "\n",
    "Once your dataset is created, you'll also need to define a `DataLoader` from the `torch.utils.data` module for both the train and the test set."
   ]
  },
  {
   "cell_type": "code",
   "execution_count": 3,
   "metadata": {},
   "outputs": [
    {
     "name": "stdout",
     "output_type": "stream",
     "text": [
      "Files already downloaded and verified\n",
      "Files already downloaded and verified\n"
     ]
    }
   ],
   "source": [
    "# Define transforms\n",
    "training_transforms = transforms.Compose([transforms.RandomRotation(25),\n",
    "                                          transforms.RandomResizedCrop(28),\n",
    "                                          transforms.RandomHorizontalFlip(),\n",
    "                                          transforms.ToTensor(),\n",
    "                                          transforms.Normalize((0.5, 0.5, 0.5), \n",
    "                                                               (0.5, 0.5, 0.5))])\n",
    "testing_transforms = transforms.Compose([transforms.Resize(30),\n",
    "                                         transforms.CenterCrop(28),\n",
    "                                         transforms.ToTensor(),\n",
    "                                         transforms.Normalize((0.5, 0.5, 0.5), \n",
    "                                                              (0.5, 0.5, 0.5))])\n",
    "\n",
    "# Create training set and define training dataloader\n",
    "training_dataset = torchvision.datasets.CIFAR10(root='./data', train=True, transform=training_transforms, download=True)\n",
    "train_loader = torch.utils.data.DataLoader(training_dataset, batch_size=64, shuffle=True)\n",
    "\n",
    "# Create test set and define test dataloader\n",
    "testing_dataset = torchvision.datasets.CIFAR10(root='./data', train=False, transform=testing_transforms, download=True)\n",
    "test_loader = torch.utils.data.DataLoader(testing_dataset, batch_size=64, shuffle=True)\n",
    "\n",
    "# The 10 classes in the dataset\n",
    "classes = ('plane', 'car', 'bird', 'cat', 'deer', 'dog', 'frog', 'horse', 'ship', 'truck')"
   ]
  },
  {
   "cell_type": "markdown",
   "metadata": {},
   "source": [
    "## Explore the Dataset\n",
    "Using matplotlib, numpy, and torch, explore the dimensions of your data.\n",
    "\n",
    "You can view images using the `show5` function defined below – it takes a data loader as an argument.\n",
    "Remember that normalized images will look really weird to you! You may want to try changing your transforms to view images.\n",
    "Typically using no transforms other than `toTensor()` works well for viewing – but not as well for training your network.\n",
    "If `show5` doesn't work, go back and check your code for creating your data loaders and your training/test sets."
   ]
  },
  {
   "cell_type": "code",
   "execution_count": 4,
   "metadata": {},
   "outputs": [],
   "source": [
    "def show5(img_loader):\n",
    "    dataiter = iter(img_loader)\n",
    "    \n",
    "    batch = next(dataiter)\n",
    "    labels = batch[1][0:5]\n",
    "    images = batch[0][0:5]\n",
    "    for i in range(5):\n",
    "        print(classes[labels[i]])\n",
    "        \n",
    "        # Un-normalize\n",
    "        image = images[i]/2 + 0.5\n",
    "        image = image.numpy()\n",
    "        plt.imshow(np.rot90(image.T, k=3))\n",
    "        plt.show()"
   ]
  },
  {
   "cell_type": "code",
   "execution_count": 5,
   "metadata": {},
   "outputs": [
    {
     "name": "stdout",
     "output_type": "stream",
     "text": [
      "cat\n"
     ]
    },
    {
     "data": {
      "image/png": "[encoded data removed]",
      "text/plain": [
       "<matplotlib.figure.Figure at 0x7f7434820d30>"
      ]
     },
     "metadata": {
      "needs_background": "light"
     },
     "output_type": "display_data"
    },
    {
     "name": "stdout",
     "output_type": "stream",
     "text": [
      "bird\n"
     ]
    },
    {
     "data": {
      "image/png": "[encoded data removed]",
      "text/plain": [
       "<matplotlib.figure.Figure at 0x7f73d08d6240>"
      ]
     },
     "metadata": {
      "needs_background": "light"
     },
     "output_type": "display_data"
    },
    {
     "name": "stdout",
     "output_type": "stream",
     "text": [
      "bird\n"
     ]
    },
    {
     "data": {
      "image/png": "[encoded data removed]",
      "text/plain": [
       "<matplotlib.figure.Figure at 0x7f73ce8626d8>"
      ]
     },
     "metadata": {
      "needs_background": "light"
     },
     "output_type": "display_data"
    },
    {
     "name": "stdout",
     "output_type": "stream",
     "text": [
      "plane\n"
     ]
    },
    {
     "data": {
      "image/png": "[encoded data removed]",
      "text/plain": [
       "<matplotlib.figure.Figure at 0x7f73ce8410f0>"
      ]
     },
     "metadata": {
      "needs_background": "light"
     },
     "output_type": "display_data"
    },
    {
     "name": "stdout",
     "output_type": "stream",
     "text": [
      "ship\n"
     ]
    },
    {
     "data": {
      "image/png": "[encoded data removed]",
      "text/plain": [
       "<matplotlib.figure.Figure at 0x7f73ce79a908>"
      ]
     },
     "metadata": {
      "needs_background": "light"
     },
     "output_type": "display_data"
    }
   ],
   "source": [
    "# Explore data\n",
    "show5(train_loader)"
   ]
  },
  {
   "cell_type": "code",
   "execution_count": 6,
   "metadata": {},
   "outputs": [
    {
     "name": "stdout",
     "output_type": "stream",
     "text": [
      "plane\n"
     ]
    },
    {
     "data": {
      "image/png": "[encoded data removed]",
      "text/plain": [
       "<matplotlib.figure.Figure at 0x7f73ce75d518>"
      ]
     },
     "metadata": {
      "needs_background": "light"
     },
     "output_type": "display_data"
    },
    {
     "name": "stdout",
     "output_type": "stream",
     "text": [
      "deer\n"
     ]
    },
    {
     "data": {
      "image/png": "[encoded data removed]",
      "text/plain": [
       "<matplotlib.figure.Figure at 0x7f73d9ced6a0>"
      ]
     },
     "metadata": {
      "needs_background": "light"
     },
     "output_type": "display_data"
    },
    {
     "name": "stdout",
     "output_type": "stream",
     "text": [
      "cat\n"
     ]
    },
    {
     "data": {
      "image/png": "[encoded data removed]",
      "text/plain": [
       "<matplotlib.figure.Figure at 0x7f73d9d0b198>"
      ]
     },
     "metadata": {
      "needs_background": "light"
     },
     "output_type": "display_data"
    },
    {
     "name": "stdout",
     "output_type": "stream",
     "text": [
      "dog\n"
     ]
    },
    {
     "data": {
      "image/png": "[encoded data removed]",
      "text/plain": [
       "<matplotlib.figure.Figure at 0x7f73ce814f98>"
      ]
     },
     "metadata": {
      "needs_background": "light"
     },
     "output_type": "display_data"
    },
    {
     "name": "stdout",
     "output_type": "stream",
     "text": [
      "deer\n"
     ]
    },
    {
     "data": {
      "image/png": "[encoded data removed]",
      "text/plain": [
       "<matplotlib.figure.Figure at 0x7f73d098d128>"
      ]
     },
     "metadata": {
      "needs_background": "light"
     },
     "output_type": "display_data"
    }
   ],
   "source": [
    "show5(test_loader)"
   ]
  },
  {
   "cell_type": "code",
   "execution_count": 7,
   "metadata": {},
   "outputs": [
    {
     "name": "stdout",
     "output_type": "stream",
     "text": [
      "Training Batches #: 782\n",
      "Testing Batches #: 157\n"
     ]
    }
   ],
   "source": [
    "print(f'Training Batches #: {len(train_loader)}')\n",
    "print(f'Testing Batches #: {len(test_loader)}')"
   ]
  },
  {
   "cell_type": "code",
   "execution_count": 8,
   "metadata": {},
   "outputs": [
    {
     "name": "stdout",
     "output_type": "stream",
     "text": [
      "torch.Size([64, 3, 28, 28])\n",
      "torch.Size([64])\n",
      "torch.Size([64, 2352])\n"
     ]
    }
   ],
   "source": [
    "batch = iter(test_loader).next()\n",
    "data = batch[0].shape\n",
    "label = batch[1].shape\n",
    "print(data)\n",
    "print(label)\n",
    "print(batch[0].view(64, -1).shape)\n",
    "\n",
    "# Size of train/test data"
   ]
  },
  {
   "cell_type": "markdown",
   "metadata": {},
   "source": [
    "One batch has 64 images. Each image has 3 channels (RGB) and is of 28 x 28 = 784 pixels in size. Input to the network is thus 3*784 = 2352."
   ]
  },
  {
   "cell_type": "markdown",
   "metadata": {},
   "source": [
    "## Build your Neural Network\n",
    "Using the layers in `torch.nn` (which has been imported as `nn`) and the `torch.nn.functional` module (imported as `F`), construct a neural network based on the parameters of the dataset. \n",
    "Feel free to construct a model of any architecture – feedforward, convolutional, or even something more advanced!"
   ]
  },
  {
   "cell_type": "code",
   "execution_count": 9,
   "metadata": {},
   "outputs": [],
   "source": [
    "class Network(nn.Module):\n",
    "    def __init__(self, input_size, output_size, hidden_size):\n",
    "        super().__init__()\n",
    "        \n",
    "        self.fc_input = nn.Linear(input_size, hidden_size[0])\n",
    "        self.fc_hidden = nn.ModuleList([])\n",
    "        \n",
    "        for i in range(len(hidden_size)-1):\n",
    "            self.fc_hidden.extend([nn.Linear(hidden_size[i], hidden_size[i+1])])\n",
    "        \n",
    "        self.fc_output = nn.Linear(hidden_size[-1], output_size)\n",
    "    \n",
    "    def forward(self, x):\n",
    "        x = x.view(x.shape[0], -1)\n",
    "\n",
    "        x = F.relu(self.fc_input(x))\n",
    "        for i in range(len(hidden_size)-1):\n",
    "            x = F.relu(self.fc_hidden[i](x))\n",
    "        x = F.log_softmax(self.fc_output(x), dim=1)\n",
    "\n",
    "        return x"
   ]
  },
  {
   "cell_type": "markdown",
   "metadata": {},
   "source": [
    "Specify a loss function and an optimizer, and instantiate the model.\n",
    "\n",
    "If you use a less common loss function, please note why you chose that loss function in a comment."
   ]
  },
  {
   "cell_type": "code",
   "execution_count": 15,
   "metadata": {},
   "outputs": [],
   "source": [
    "input_size = 2352\n",
    "output_size = 10\n",
    "hidden_size = [1024, 512, 256, 64]\n",
    "model = Network(input_size, output_size, hidden_size)\n",
    "criterion = nn.NLLLoss()\n",
    "optimizer = optim.SGD(model.parameters(), lr=0.01)"
   ]
  },
  {
   "cell_type": "code",
   "execution_count": 20,
   "metadata": {},
   "outputs": [
    {
     "data": {
      "text/plain": [
       "Network(\n",
       "  (fc_input): Linear(in_features=2352, out_features=1024, bias=True)\n",
       "  (fc_hidden): ModuleList(\n",
       "    (0): Linear(in_features=1024, out_features=512, bias=True)\n",
       "    (1): Linear(in_features=512, out_features=256, bias=True)\n",
       "    (2): Linear(in_features=256, out_features=64, bias=True)\n",
       "  )\n",
       "  (fc_output): Linear(in_features=64, out_features=10, bias=True)\n",
       ")"
      ]
     },
     "execution_count": 20,
     "metadata": {},
     "output_type": "execute_result"
    }
   ],
   "source": [
    "model"
   ]
  },
  {
   "cell_type": "markdown",
   "metadata": {},
   "source": [
    "## Running your Neural Network\n",
    "Use whatever method you like to train your neural network, and ensure you record the average loss at each epoch. \n",
    "Don't forget to use `torch.device()` and the `.to()` method for both your model and your data if you are using GPU!\n",
    "\n",
    "If you want to print your loss during each epoch, you can use the `enumerate` function and print the loss after a set number of batches. 250 batches works well for most people!"
   ]
  },
  {
   "cell_type": "code",
   "execution_count": 16,
   "metadata": {},
   "outputs": [
    {
     "name": "stdout",
     "output_type": "stream",
     "text": [
      "Epoch: 1/40 ...Training Loss: 2.2988 ...Testing Loss: 2.2896 ...Test Accuracy: 0.1698\n",
      "Epoch: 2/40 ...Training Loss: 2.2626 ...Testing Loss: 2.1852 ...Test Accuracy: 0.2136\n",
      "Epoch: 3/40 ...Training Loss: 2.1182 ...Testing Loss: 2.0106 ...Test Accuracy: 0.2600\n",
      "Epoch: 4/40 ...Training Loss: 2.0362 ...Testing Loss: 1.9474 ...Test Accuracy: 0.2911\n",
      "Epoch: 5/40 ...Training Loss: 1.9937 ...Testing Loss: 1.8827 ...Test Accuracy: 0.3161\n",
      "Epoch: 6/40 ...Training Loss: 1.9558 ...Testing Loss: 1.8268 ...Test Accuracy: 0.3390\n",
      "Epoch: 7/40 ...Training Loss: 1.9239 ...Testing Loss: 1.7893 ...Test Accuracy: 0.3571\n",
      "Epoch: 8/40 ...Training Loss: 1.9002 ...Testing Loss: 1.7472 ...Test Accuracy: 0.3775\n",
      "Epoch: 9/40 ...Training Loss: 1.8758 ...Testing Loss: 1.7204 ...Test Accuracy: 0.3889\n",
      "Epoch: 10/40 ...Training Loss: 1.8503 ...Testing Loss: 1.6768 ...Test Accuracy: 0.4040\n",
      "Epoch: 11/40 ...Training Loss: 1.8309 ...Testing Loss: 1.6561 ...Test Accuracy: 0.4076\n",
      "Epoch: 12/40 ...Training Loss: 1.8178 ...Testing Loss: 1.6325 ...Test Accuracy: 0.4248\n",
      "Epoch: 13/40 ...Training Loss: 1.8007 ...Testing Loss: 1.6117 ...Test Accuracy: 0.4301\n",
      "Epoch: 14/40 ...Training Loss: 1.7845 ...Testing Loss: 1.5909 ...Test Accuracy: 0.4375\n",
      "Epoch: 15/40 ...Training Loss: 1.7722 ...Testing Loss: 1.5876 ...Test Accuracy: 0.4354\n",
      "Epoch: 16/40 ...Training Loss: 1.7585 ...Testing Loss: 1.5546 ...Test Accuracy: 0.4466\n",
      "Epoch: 17/40 ...Training Loss: 1.7504 ...Testing Loss: 1.5448 ...Test Accuracy: 0.4539\n",
      "Epoch: 18/40 ...Training Loss: 1.7423 ...Testing Loss: 1.5448 ...Test Accuracy: 0.4533\n",
      "Epoch: 19/40 ...Training Loss: 1.7315 ...Testing Loss: 1.5093 ...Test Accuracy: 0.4643\n",
      "Epoch: 20/40 ...Training Loss: 1.7246 ...Testing Loss: 1.5238 ...Test Accuracy: 0.4638\n",
      "Epoch: 21/40 ...Training Loss: 1.7101 ...Testing Loss: 1.4951 ...Test Accuracy: 0.4749\n",
      "Epoch: 22/40 ...Training Loss: 1.7056 ...Testing Loss: 1.5373 ...Test Accuracy: 0.4506\n",
      "Epoch: 23/40 ...Training Loss: 1.6997 ...Testing Loss: 1.4961 ...Test Accuracy: 0.4641\n",
      "Epoch: 24/40 ...Training Loss: 1.6944 ...Testing Loss: 1.4776 ...Test Accuracy: 0.4779\n",
      "Epoch: 25/40 ...Training Loss: 1.6858 ...Testing Loss: 1.4872 ...Test Accuracy: 0.4696\n",
      "Epoch: 26/40 ...Training Loss: 1.6856 ...Testing Loss: 1.4897 ...Test Accuracy: 0.4676\n",
      "Epoch: 27/40 ...Training Loss: 1.6792 ...Testing Loss: 1.4427 ...Test Accuracy: 0.4931\n",
      "Epoch: 28/40 ...Training Loss: 1.6704 ...Testing Loss: 1.5186 ...Test Accuracy: 0.4628\n",
      "Epoch: 29/40 ...Training Loss: 1.6633 ...Testing Loss: 1.4553 ...Test Accuracy: 0.4813\n",
      "Epoch: 30/40 ...Training Loss: 1.6640 ...Testing Loss: 1.4384 ...Test Accuracy: 0.4869\n",
      "Epoch: 31/40 ...Training Loss: 1.6554 ...Testing Loss: 1.4418 ...Test Accuracy: 0.4911\n",
      "Epoch: 32/40 ...Training Loss: 1.6504 ...Testing Loss: 1.4388 ...Test Accuracy: 0.4863\n",
      "Epoch: 33/40 ...Training Loss: 1.6413 ...Testing Loss: 1.4111 ...Test Accuracy: 0.4970\n",
      "Epoch: 34/40 ...Training Loss: 1.6390 ...Testing Loss: 1.4017 ...Test Accuracy: 0.5040\n",
      "Epoch: 35/40 ...Training Loss: 1.6274 ...Testing Loss: 1.3923 ...Test Accuracy: 0.5015\n",
      "Epoch: 36/40 ...Training Loss: 1.6312 ...Testing Loss: 1.3924 ...Test Accuracy: 0.5081\n",
      "Epoch: 37/40 ...Training Loss: 1.6261 ...Testing Loss: 1.3881 ...Test Accuracy: 0.5109\n",
      "Epoch: 38/40 ...Training Loss: 1.6155 ...Testing Loss: 1.3882 ...Test Accuracy: 0.5020\n",
      "Epoch: 39/40 ...Training Loss: 1.6188 ...Testing Loss: 1.3944 ...Test Accuracy: 0.5037\n",
      "Epoch: 40/40 ...Training Loss: 1.6114 ...Testing Loss: 1.3935 ...Test Accuracy: 0.5075\n"
     ]
    }
   ],
   "source": [
    "device = torch.device('cuda:0' if torch.cuda.is_available() else 'cpu')\n",
    "\n",
    "train_loss = []\n",
    "test_loss = []\n",
    "test_accuracy = []\n",
    "epochs = 40\n",
    "\n",
    "model.to(device)\n",
    "\n",
    "for e in range(epochs):\n",
    "    model.train()\n",
    "    training_loss = 0\n",
    "    testing_loss = 0\n",
    "    testing_accuracy = 0\n",
    "\n",
    "    for images, labels in train_loader:\n",
    "        images, labels = images.to(device), labels.to(device)\n",
    "     \n",
    "        logps = model.forward(images)\n",
    "        loss = criterion(logps, labels)\n",
    "        \n",
    "        optimizer.zero_grad()\n",
    "        loss.backward()\n",
    "        optimizer.step()\n",
    "        \n",
    "        training_loss += loss.item()\n",
    "        \n",
    "    else:\n",
    "        model.eval()\n",
    "        \n",
    "        with torch.no_grad():\n",
    "            for images, labels in test_loader:\n",
    "                images, labels = images.to(device), labels.to(device)\n",
    "\n",
    "                logps = model.forward(images)\n",
    "                loss = criterion(logps, labels)\n",
    "\n",
    "                ps = torch.exp(logps)\n",
    "                prob, prob_class = ps.topk(1, dim=1)\n",
    "                equals = prob_class == labels.view(prob_class.shape)\n",
    "                accuracy = torch.mean(equals.type(torch.FloatTensor))\n",
    "\n",
    "                testing_loss += loss.item()\n",
    "                testing_accuracy += accuracy.item()\n",
    "    \n",
    "    train_loss.append(training_loss/len(train_loader))\n",
    "    test_loss.append(testing_loss/len(test_loader))\n",
    "    test_accuracy.append(testing_accuracy/len(test_loader))\n",
    "    \n",
    "    print(f'Epoch: {e+1}/{epochs} ...' \n",
    "          f'Training Loss: {training_loss/len(train_loader):.04f} ...'\n",
    "          f'Testing Loss: {testing_loss/len(test_loader):.04f} ...'\n",
    "          f'Test Accuracy: {testing_accuracy/len(test_loader):.04f}')"
   ]
  },
  {
   "cell_type": "markdown",
   "metadata": {},
   "source": [
    "Plot the training loss (and validation loss/accuracy, if recorded)."
   ]
  },
  {
   "cell_type": "code",
   "execution_count": 17,
   "metadata": {},
   "outputs": [
    {
     "data": {
      "text/plain": [
       "Text(0.5,1,'Test Accuracy')"
      ]
     },
     "execution_count": 17,
     "metadata": {},
     "output_type": "execute_result"
    },
    {
     "data": {
      "image/png": "[encoded data removed]",
      "text/plain": [
       "<matplotlib.figure.Figure at 0x7f73ce816c18>"
      ]
     },
     "metadata": {
      "needs_background": "light"
     },
     "output_type": "display_data"
    }
   ],
   "source": [
    "plt.figure(figsize=[15,3])\n",
    "plt.subplot(1, 3, 1)\n",
    "plt.plot(train_loss)\n",
    "plt.title('Training Loss')\n",
    "plt.subplot(1, 3, 2)\n",
    "plt.plot(test_loss, color='orange')\n",
    "plt.title('Test Loss')\n",
    "plt.subplot(1, 3, 3)\n",
    "plt.plot(test_accuracy, color='red')\n",
    "plt.title('Test Accuracy')"
   ]
  },
  {
   "cell_type": "markdown",
   "metadata": {},
   "source": [
    "## Testing your model\n",
    "Using the previously created `DataLoader` for the test set, compute the percentage of correct predictions using the highest probability prediction. \n",
    "\n",
    "If your accuracy is over 70%, great work! \n",
    "This is a hard task to exceed 70% on.\n",
    "\n",
    "If your accuracy is under 45%, you'll need to make improvements.\n",
    "Go back and check your model architecture, loss function, and optimizer to make sure they're appropriate for an image classification task."
   ]
  },
  {
   "cell_type": "code",
   "execution_count": 21,
   "metadata": {},
   "outputs": [
    {
     "name": "stdout",
     "output_type": "stream",
     "text": [
      "Model Test Accuracy: 50.78\n"
     ]
    }
   ],
   "source": [
    "model.eval()\n",
    "avg_accuracy = 0\n",
    "\n",
    "with torch.no_grad():\n",
    "    for images, labels in test_loader:\n",
    "        images, labels = images.to(device), labels.to(device)\n",
    "\n",
    "        logps = model.forward(images)\n",
    "        loss = criterion(logps, labels)\n",
    "\n",
    "        ps = torch.exp(logps)\n",
    "        prob, prob_class = ps.topk(1, dim=1)\n",
    "        equals = prob_class == labels.view(prob_class.shape)\n",
    "        accuracy = torch.mean(equals.type(torch.FloatTensor))\n",
    "\n",
    "        avg_accuracy += accuracy.item()\n",
    "\n",
    "avg_accuracy *= 100\n",
    "print(f'Model Test Accuracy: {(avg_accuracy/len(test_loader)):.02f}')"
   ]
  },
  {
   "cell_type": "markdown",
   "metadata": {},
   "source": [
    "## Saving your model\n",
    "Using `torch.save`, save your model for future loading."
   ]
  },
  {
   "cell_type": "code",
   "execution_count": 22,
   "metadata": {},
   "outputs": [],
   "source": [
    "checkpoint = {'input': input_size,\n",
    "              'output': output_size, \n",
    "              'hidden': hidden_size,\n",
    "              'state_dict': model.state_dict()\n",
    "             }\n",
    "torch.save(checkpoint, 'checkpoint.pth')"
   ]
  },
  {
   "cell_type": "markdown",
   "metadata": {},
   "source": [
    "## Make a Recommendation\n",
    "\n",
    "Based on your evaluation, what is your recommendation on whether to build or buy? Explain your reasoning below.\n",
    "\n",
    "Some things to consider as you formulate your recommendation:\n",
    "* How does your model compare to Detectocorp's model?\n",
    "* How does it compare to the far more advanced solutions in the literature? \n",
    "* What did you do to get the accuracy you achieved? \n",
    "* Is it necessary to improve this accuracy? If so, what sort of work would be involved in improving it?"
   ]
  },
  {
   "cell_type": "markdown",
   "metadata": {},
   "source": [
    "My recommendation is to build a model in-house.\n",
    "<br>1. The model achieves an accuracy of 50.7%, 5.7% more than that of the Detectocorp's model. Due to higher accuracy, using an in-house model is better than buying Detectocorp's. We also avoid costs by not buying a less performing model.\n",
    "<br>2. The model is not as good as the advanced solutions in literature. It does not perform as well as them since it does not use Convolutional Layers, which are considered good for images. It also only has 3 hidden layers and is not as deep as advanced networks.\n",
    "<br>3. I adjusted the learning rate, number of neurons in the hidden layers, and the number of epochs.\n",
    "<br>4. Yes, since it much lesser than 70%. Improving the accuracy may require using more parameters/layers, using convolutional layers, or training for longer number of epochs."
   ]
  },
  {
   "cell_type": "markdown",
   "metadata": {},
   "source": [
    "## Submit Your Project\n",
    "\n",
    "When you are finished editing the notebook and are ready to turn it in, simply click the **SUBMIT PROJECT** button in the lower right.\n",
    "\n",
    "Once you submit your project, we'll review your work and give you feedback if there's anything that you need to work on. If you'd like to see the exact points that your reviewer will check for when looking at your work, you can have a look over the project [rubric](https://review.udacity.com/#!/rubrics/3077/view)."
   ]
  },
  {
   "cell_type": "code",
   "execution_count": null,
   "metadata": {},
   "outputs": [],
   "source": []
  }
 ],
 "metadata": {
  "kernelspec": {
   "display_name": "Python 3",
   "language": "python",
   "name": "python3"
  },
  "language_info": {
   "codemirror_mode": {
    "name": "ipython",
    "version": 3
   },
   "file_extension": ".py",
   "mimetype": "text/x-python",
   "name": "python",
   "nbconvert_exporter": "python",
   "pygments_lexer": "ipython3",
   "version": "3.6.3"
  }
 },
 "nbformat": 4,
 "nbformat_minor": 4
}
